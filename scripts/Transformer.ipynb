{
 "cells": [
  {
   "cell_type": "markdown",
   "metadata": {},
   "source": [
    "Define the model\n",
    "----------------\n",
    "In this tutorial, we train a ``nn.TransformerEncoder`` model on a\n",
    "language modeling task. The language modeling task is to assign a\n",
    "probability for the likelihood of a given word (or a sequence of words)\n",
    "to follow a sequence of words. A sequence of tokens are passed to the embedding\n",
    "layer first, followed by a positional encoding layer to account for the order\n",
    "of the word (see the next paragraph for more details). The\n",
    "``nn.TransformerEncoder`` consists of multiple layers of\n",
    "`nn.TransformerEncoderLayer `__.\n",
    "Along with the input sequence, a square attention mask is required because the\n",
    "self-attention layers in ``nn.TransformerEncoder`` are only allowed to attend\n",
    "the earlier positions in the sequence. For the language modeling task, any\n",
    "tokens on the future positions should be masked. To produce a probability\n",
    "distribution over output words, the output of the ``nn.TransformerEncoder``\n",
    "model is passed through a linear layer followed by a log-softmax function.\n",
    "\n",
    "\n"
   ]
  },
  {
   "cell_type": "code",
   "execution_count": 11,
   "metadata": {
    "colab": {},
    "colab_type": "code",
    "id": "NyFvxvSgsTqQ"
   },
   "outputs": [],
   "source": [
    "import math\n",
    "from typing import Tuple\n",
    "\n",
    "import torch\n",
    "from torch import nn, Tensor\n",
    "import torch.nn.functional as F\n",
    "from torch.nn import TransformerEncoder, TransformerEncoderLayer\n",
    "from torch.utils.data import dataset\n",
    "\n",
    "class TransformerModel(nn.Module):\n",
    "\n",
    "    def __init__(self, ntoken: int, d_model: int, nhead: int, d_hid: int,\n",
    "                 nlayers: int, dropout: float = 0.5):\n",
    "        super().__init__()\n",
    "        self.model_type = 'Transformer'\n",
    "        self.pos_encoder = PositionalEncoding(d_model, dropout)\n",
    "        encoder_layers = TransformerEncoderLayer(d_model, nhead, d_hid, dropout) \n",
    "        #TransformerEncoderLayer is made up of self-attn and feedforward network. This standard encoder layer is based on the paper \"Attention Is All You Need\".\n",
    "        self.transformer_encoder = TransformerEncoder(encoder_layers, nlayers) \n",
    "        #TransformerEncoder is a stack of N encoder layers\n",
    "        self.encoder = nn.Embedding(ntoken, d_model)\n",
    "        self.d_model = d_model\n",
    "        self.decoder = nn.Linear(d_model, ntoken)\n",
    "\n",
    "        self.init_weights()\n",
    "\n",
    "    def init_weights(self) -> None:\n",
    "        initrange = 0.1\n",
    "        self.encoder.weight.data.uniform_(-initrange, initrange)\n",
    "        self.decoder.bias.data.zero_()\n",
    "        self.decoder.weight.data.uniform_(-initrange, initrange)\n",
    "\n",
    "    def forward(self, src: Tensor, src_mask: Tensor) -> Tensor:\n",
    "        \"\"\"\n",
    "        Args:\n",
    "            src: Tensor, shape [seq_len, batch_size]\n",
    "            src_mask: Tensor, shape [seq_len, seq_len]\n",
    "\n",
    "        Returns:\n",
    "            output Tensor of shape [seq_len, batch_size, ntoken]\n",
    "        \"\"\"\n",
    "        src = self.encoder(src) * math.sqrt(self.d_model)\n",
    "        src = self.pos_encoder(src)\n",
    "        output = self.transformer_encoder(src, src_mask)\n",
    "        output = self.decoder(output)\n",
    "        return output\n",
    "        \n",
    "def generate_square_subsequent_mask(sz: int) -> Tensor:\n",
    "    \"\"\"Generates an upper-triangular matrix of -inf, with zeros on diag.\"\"\"\n",
    "    return torch.triu(torch.ones(sz, sz) * float('-inf'), diagonal=1)\n"
   ]
  },
  {
   "cell_type": "markdown",
   "metadata": {},
   "source": [
    "``PositionalEncoding`` module injects some information about the\n",
    "relative or absolute position of the tokens in the sequence. The\n",
    "positional encodings have the same dimension as the embeddings so that\n",
    "the two can be summed. Here, we use ``sine`` and ``cosine`` functions of\n",
    "different frequencies."
   ]
  },
  {
   "cell_type": "code",
   "execution_count": 12,
   "metadata": {},
   "outputs": [],
   "source": [
    "class PositionalEncoding(nn.Module):\n",
    "\n",
    "    def __init__(self, d_model: int, dropout: float = 0.1, max_len: int = 5000):\n",
    "        super().__init__()\n",
    "        self.dropout = nn.Dropout(p=dropout)\n",
    "\n",
    "        position = torch.arange(max_len).unsqueeze(1)\n",
    "        div_term = torch.exp(torch.arange(0, d_model, 2) * (-math.log(10000.0) / d_model))\n",
    "        pe = torch.zeros(max_len, 1, d_model)\n",
    "        pe[:, 0, 0::2] = torch.sin(position * div_term)\n",
    "        pe[:, 0, 1::2] = torch.cos(position * div_term)\n",
    "        self.register_buffer('pe', pe)\n",
    "\n",
    "    def forward(self, x: Tensor) -> Tensor:\n",
    "        \"\"\"\n",
    "        Args:\n",
    "            x: Tensor, shape [seq_len, batch_size, embedding_dim]\n",
    "        \"\"\"\n",
    "        x = x + self.pe[:x.size(0)]\n",
    "        return self.dropout(x)"
   ]
  },
  {
   "cell_type": "markdown",
   "metadata": {},
   "source": [
    "We use ``torchtext`` to generate Wikitext-2 dataset. The\n",
    "vocab object is built based on the train dataset and is used to numericalize\n",
    "tokens into tensors. Wikitext-2 represents rare tokens as `<unk>`.\n",
    "\n",
    "Given a 1-D vector of sequential data, ``batchify()`` arranges the data\n",
    "into ``batch_size`` columns. If the data does not divide evenly into\n",
    "``batch_size`` columns, then the data is trimmed to fit. For instance, with\n",
    "the alphabet as the data (total length of 26) and ``batch_size=4``, we would\n",
    "divide the alphabet into 4 sequences of length 6:\n",
    "\n",
    "$$\n",
    "\\begin{bmatrix}\n",
    "  \\text{A} & \\text{B} & \\text{C} & \\ldots & \\text{X} & \\text{Y} & \\text{Z}\n",
    "  \\end{bmatrix}\n",
    "  \\Rightarrow\n",
    "  $$\n",
    "  $$\n",
    "  \\begin{bmatrix}\n",
    "  \\begin{bmatrix}\\text{A} \\\\ \\text{B} \\\\ \\text{C} \\\\ \\text{D} \\\\ \\text{E} \\\\ \\text{F}\\end{bmatrix} &\n",
    "  \\begin{bmatrix}\\text{G} \\\\ \\text{H} \\\\ \\text{I} \\\\ \\text{J} \\\\ \\text{K} \\\\ \\text{L}\\end{bmatrix} &\n",
    "  \\begin{bmatrix}\\text{M} \\\\ \\text{N} \\\\ \\text{O} \\\\ \\text{P} \\\\ \\text{Q} \\\\ \\text{R}\\end{bmatrix} &\n",
    "  \\begin{bmatrix}\\text{S} \\\\ \\text{T} \\\\ \\text{U} \\\\ \\text{V} \\\\ \\text{W} \\\\ \\text{X}\\end{bmatrix}\n",
    "  \\end{bmatrix}\n",
    "  $$\n",
    "\n",
    "Batching enables more parallelizable processing. However, batching means that\n",
    "the model treats each column independently; for example, the dependence of\n",
    "``G`` and ``F`` can not be learned in the example above.\n",
    "\n"
   ]
  },
  {
   "cell_type": "code",
   "execution_count": 4,
   "metadata": {},
   "outputs": [
    {
     "name": "stderr",
     "output_type": "stream",
     "text": [
      "wikitext-2-v1.zip: 100%|██████████| 4.48M/4.48M [00:00<00:00, 33.6MB/s]\n"
     ]
    }
   ],
   "source": [
    "from torchtext.datasets import WikiText2\n",
    "from torchtext.data.utils import get_tokenizer\n",
    "from torchtext.vocab import build_vocab_from_iterator\n",
    "\n",
    "train_iter = WikiText2(split='train')\n",
    "tokenizer = get_tokenizer('basic_english')\n",
    "vocab = build_vocab_from_iterator(map(tokenizer, train_iter), specials=['<unk>'])\n",
    "vocab.set_default_index(vocab['<unk>']) \n",
    "\n",
    "def data_process(raw_text_iter: dataset.IterableDataset) -> Tensor:\n",
    "    \"\"\"Converts raw text into a flat Tensor.\"\"\"\n",
    "    data = [torch.tensor(vocab(tokenizer(item)), dtype=torch.long) for item in raw_text_iter]\n",
    "    return torch.cat(tuple(filter(lambda t: t.numel() > 0, data)))\n",
    "\n",
    "# train_iter was \"consumed\" by the process of building the vocab,\n",
    "# so we have to create it again\n",
    "train_iter, val_iter, test_iter = WikiText2()\n",
    "train_data = data_process(train_iter)\n",
    "val_data = data_process(val_iter)\n",
    "test_data = data_process(test_iter)\n",
    "\n",
    "device = torch.device('cuda' if torch.cuda.is_available() else 'cpu')\n",
    "\n",
    "def batchify(data: Tensor, bsz: int) -> Tensor:\n",
    "    \"\"\"Divides the data into bsz separate sequences, removing extra elements\n",
    "    that wouldn't cleanly fit.\n",
    "\n",
    "    Args:\n",
    "        data: Tensor, shape [N]\n",
    "        bsz: int, batch size\n",
    "\n",
    "    Returns:\n",
    "        Tensor of shape [N // bsz, bsz]\n",
    "    \"\"\"\n",
    "    seq_len = data.size(0) // bsz\n",
    "    data = data[:seq_len * bsz]\n",
    "    data = data.view(bsz, seq_len).t().contiguous()\n",
    "    return data.to(device)\n",
    "\n",
    "batch_size = 20\n",
    "eval_batch_size = 10\n",
    "train_data = batchify(train_data, batch_size)  # shape [seq_len, batch_size]\n",
    "val_data = batchify(val_data, eval_batch_size)\n",
    "test_data = batchify(test_data, eval_batch_size)"
   ]
  },
  {
   "cell_type": "code",
   "execution_count": 5,
   "metadata": {},
   "outputs": [],
   "source": [
    "bptt = 35\n",
    "def get_batch(source: Tensor, i: int) -> Tuple[Tensor, Tensor]:\n",
    "    \"\"\"\n",
    "    Args:\n",
    "        source: Tensor, shape [full_seq_len, batch_size]\n",
    "        i: int\n",
    "\n",
    "    Returns:\n",
    "        tuple (data, target), where data has shape [seq_len, batch_size] and\n",
    "        target has shape [seq_len * batch_size]\n",
    "    \"\"\"\n",
    "    seq_len = min(bptt, len(source) - 1 - i)\n",
    "    data = source[i:i+seq_len]\n",
    "    target = source[i+1:i+1+seq_len].reshape(-1)\n",
    "    return data, target"
   ]
  },
  {
   "cell_type": "markdown",
   "metadata": {},
   "source": [
    "# Initiate an instance\n",
    "The model hyperparameters are defined below. The vocab size is equal to the length of the vocab object."
   ]
  },
  {
   "cell_type": "code",
   "execution_count": 6,
   "metadata": {},
   "outputs": [],
   "source": [
    "ntokens = len(vocab)  # size of vocabulary\n",
    "emsize = 200  # embedding dimension\n",
    "d_hid = 200  # dimension of the feedforward network model in nn.TransformerEncoder\n",
    "nlayers = 2  # number of nn.TransformerEncoderLayer in nn.TransformerEncoder\n",
    "nhead = 2  # number of heads in nn.MultiheadAttention\n",
    "dropout = 0.2  # dropout probability\n",
    "model = TransformerModel(ntokens, emsize, nhead, d_hid, nlayers, dropout).to(device)"
   ]
  },
  {
   "cell_type": "markdown",
   "metadata": {},
   "source": [
    "# Run the model\n",
    "We use CrossEntropyLoss with the SGD (stochastic gradient descent) optimizer. The learning rate is initially set to 5.0 and follows a StepLR schedule. During training, we use nn.utils.clip_grad_norm_ to prevent gradients from exploding.\n",
    "\n"
   ]
  },
  {
   "cell_type": "code",
   "execution_count": 7,
   "metadata": {},
   "outputs": [],
   "source": [
    "import copy\n",
    "import time\n",
    "\n",
    "criterion = nn.CrossEntropyLoss()\n",
    "lr = 5.0  # learning rate\n",
    "optimizer = torch.optim.SGD(model.parameters(), lr=lr)\n",
    "scheduler = torch.optim.lr_scheduler.StepLR(optimizer, 1.0, gamma=0.95)\n",
    "\n",
    "def train(model: nn.Module) -> None:\n",
    "    model.train()  # turn on train mode\n",
    "    total_loss = 0.\n",
    "    log_interval = 200\n",
    "    start_time = time.time()\n",
    "    src_mask = generate_square_subsequent_mask(bptt).to(device)\n",
    "\n",
    "    num_batches = len(train_data) // bptt\n",
    "    for batch, i in enumerate(range(0, train_data.size(0) - 1, bptt)):\n",
    "        data, targets = get_batch(train_data, i)\n",
    "        batch_size = data.size(0)\n",
    "        if batch_size != bptt:  # only on last batch\n",
    "            src_mask = src_mask[:batch_size, :batch_size]\n",
    "        output = model(data, src_mask)\n",
    "        loss = criterion(output.view(-1, ntokens), targets)\n",
    "\n",
    "        optimizer.zero_grad()\n",
    "        loss.backward()\n",
    "        torch.nn.utils.clip_grad_norm_(model.parameters(), 0.5)\n",
    "        optimizer.step()\n",
    "\n",
    "        total_loss += loss.item()\n",
    "        if batch % log_interval == 0 and batch > 0:\n",
    "            lr = scheduler.get_last_lr()[0]\n",
    "            ms_per_batch = (time.time() - start_time) * 1000 / log_interval\n",
    "            cur_loss = total_loss / log_interval\n",
    "            ppl = math.exp(cur_loss)\n",
    "            print(f'| epoch {epoch:3d} | {batch:5d}/{num_batches:5d} batches | '\n",
    "                  f'lr {lr:02.2f} | ms/batch {ms_per_batch:5.2f} | '\n",
    "                  f'loss {cur_loss:5.2f} | ppl {ppl:8.2f}')\n",
    "            total_loss = 0\n",
    "            start_time = time.time()\n",
    "\n",
    "def evaluate(model: nn.Module, eval_data: Tensor) -> float:\n",
    "    model.eval()  # turn on evaluation mode\n",
    "    total_loss = 0.\n",
    "    src_mask = generate_square_subsequent_mask(bptt).to(device)\n",
    "    with torch.no_grad():\n",
    "        for i in range(0, eval_data.size(0) - 1, bptt):\n",
    "            data, targets = get_batch(eval_data, i)\n",
    "            batch_size = data.size(0)\n",
    "            if batch_size != bptt:\n",
    "                src_mask = src_mask[:batch_size, :batch_size]\n",
    "            output = model(data, src_mask)\n",
    "            output_flat = output.view(-1, ntokens)\n",
    "            total_loss += batch_size * criterion(output_flat, targets).item()\n",
    "    return total_loss / (len(eval_data) - 1)\n",
    "\n"
   ]
  },
  {
   "cell_type": "markdown",
   "metadata": {},
   "source": [
    "Loop over epochs. Save the model if the validation loss is the best we’ve seen so far. Adjust the learning rate after each epoch.\n",
    "\n"
   ]
  },
  {
   "cell_type": "markdown",
   "metadata": {},
   "source": [
    "# PPL Metric\n",
    "\n",
    "Perplexity (PPL) is one of the most common metrics for evaluating language models. Before diving in, we should note\n",
    "that the metric applies specifically to classical language models (sometimes called autoregressive or causal language\n",
    "models) and is not well defined for masked language models like BERT (see [summary of the models](https://huggingface.co/docs/transformers/master/en/model_summary)).\n",
    "\n",
    "Perplexity is defined as the exponentiated average negative log-likelihood of a sequence. If we have a tokenized\n",
    "sequence $X = (x_0, x_1, \\dots, x_t)$, then the perplexity of $X$ is,\n",
    "\n",
    "$$\\text{PPL}(X) = \\exp \\left\\{ {-\\frac{1}{t}\\sum_i^t \\log p_\\theta (x_i|x_{<i}) } \\right\\}$$\n",
    "\n",
    "where $\\log p_\\theta (x_i|x_{<i})$ is the log-likelihood of the ith token conditioned on the preceding tokens $x_{<i}$ according to our model. Intuitively, it can be thought of as an evaluation of the model's ability to predict uniformly among the set of specified tokens in a corpus. Importantly, this means that the tokenization procedure has a direct impact on a model's perplexity which should always be taken into consideration when comparing different models.\n",
    "\n",
    "This is also equivalent to the exponentiation of the cross-entropy between the data and model predictions. For more\n",
    "intuition about perplexity and its relationship to Bits Per Character (BPC) and data compression, check out this\n",
    "[fantastic blog post on The Gradient](https://thegradient.pub/understanding-evaluation-metrics-for-language-models/)."
   ]
  },
  {
   "cell_type": "code",
   "execution_count": 13,
   "metadata": {},
   "outputs": [
    {
     "name": "stdout",
     "output_type": "stream",
     "text": [
      "| epoch   1 |   200/ 2928 batches | lr 5.00 | ms/batch 13.07 | loss  8.23 | ppl  3746.77\n",
      "| epoch   1 |   400/ 2928 batches | lr 5.00 | ms/batch 12.50 | loss  6.90 | ppl   996.58\n",
      "| epoch   1 |   600/ 2928 batches | lr 5.00 | ms/batch 12.54 | loss  6.45 | ppl   630.86\n",
      "| epoch   1 |   800/ 2928 batches | lr 5.00 | ms/batch 12.57 | loss  6.31 | ppl   551.52\n",
      "| epoch   1 |  1000/ 2928 batches | lr 5.00 | ms/batch 12.53 | loss  6.20 | ppl   491.10\n",
      "| epoch   1 |  1200/ 2928 batches | lr 5.00 | ms/batch 12.53 | loss  6.16 | ppl   472.60\n",
      "| epoch   1 |  1400/ 2928 batches | lr 5.00 | ms/batch 12.58 | loss  6.11 | ppl   452.08\n",
      "| epoch   1 |  1600/ 2928 batches | lr 5.00 | ms/batch 12.54 | loss  6.11 | ppl   449.85\n",
      "| epoch   1 |  1800/ 2928 batches | lr 5.00 | ms/batch 12.59 | loss  6.03 | ppl   416.33\n",
      "| epoch   1 |  2000/ 2928 batches | lr 5.00 | ms/batch 12.56 | loss  6.03 | ppl   414.96\n",
      "| epoch   1 |  2200/ 2928 batches | lr 5.00 | ms/batch 12.54 | loss  5.90 | ppl   365.65\n",
      "| epoch   1 |  2400/ 2928 batches | lr 5.00 | ms/batch 12.54 | loss  5.97 | ppl   390.46\n",
      "| epoch   1 |  2600/ 2928 batches | lr 5.00 | ms/batch 12.52 | loss  5.96 | ppl   386.58\n",
      "| epoch   1 |  2800/ 2928 batches | lr 5.00 | ms/batch 12.52 | loss  5.88 | ppl   357.12\n",
      "-----------------------------------------------------------------------------------------\n",
      "| end of epoch   1 | time: 38.26s | valid loss  5.80 | valid ppl   329.86\n",
      "-----------------------------------------------------------------------------------------\n",
      "| epoch   2 |   200/ 2928 batches | lr 4.75 | ms/batch 12.64 | loss  5.86 | ppl   352.25\n",
      "| epoch   2 |   400/ 2928 batches | lr 4.75 | ms/batch 12.57 | loss  5.86 | ppl   349.35\n",
      "| epoch   2 |   600/ 2928 batches | lr 4.75 | ms/batch 12.69 | loss  5.66 | ppl   287.93\n",
      "| epoch   2 |   800/ 2928 batches | lr 4.75 | ms/batch 12.56 | loss  5.70 | ppl   298.25\n",
      "| epoch   2 |  1000/ 2928 batches | lr 4.75 | ms/batch 12.63 | loss  5.65 | ppl   285.00\n",
      "| epoch   2 |  1200/ 2928 batches | lr 4.75 | ms/batch 12.55 | loss  5.68 | ppl   292.77\n",
      "| epoch   2 |  1400/ 2928 batches | lr 4.75 | ms/batch 12.56 | loss  5.69 | ppl   295.45\n",
      "| epoch   2 |  1600/ 2928 batches | lr 4.75 | ms/batch 12.54 | loss  5.71 | ppl   302.57\n",
      "| epoch   2 |  1800/ 2928 batches | lr 4.75 | ms/batch 12.58 | loss  5.65 | ppl   282.95\n",
      "| epoch   2 |  2000/ 2928 batches | lr 4.75 | ms/batch 12.54 | loss  5.67 | ppl   289.06\n",
      "| epoch   2 |  2200/ 2928 batches | lr 4.75 | ms/batch 12.56 | loss  5.54 | ppl   255.72\n",
      "| epoch   2 |  2400/ 2928 batches | lr 4.75 | ms/batch 12.54 | loss  5.64 | ppl   282.73\n",
      "| epoch   2 |  2600/ 2928 batches | lr 4.75 | ms/batch 12.54 | loss  5.64 | ppl   281.54\n",
      "| epoch   2 |  2800/ 2928 batches | lr 4.75 | ms/batch 12.54 | loss  5.58 | ppl   265.20\n",
      "-----------------------------------------------------------------------------------------\n",
      "| end of epoch   2 | time: 38.24s | valid loss  5.63 | valid ppl   277.88\n",
      "-----------------------------------------------------------------------------------------\n",
      "| epoch   3 |   200/ 2928 batches | lr 4.51 | ms/batch 12.60 | loss  5.60 | ppl   270.97\n",
      "| epoch   3 |   400/ 2928 batches | lr 4.51 | ms/batch 12.53 | loss  5.62 | ppl   277.24\n",
      "| epoch   3 |   600/ 2928 batches | lr 4.51 | ms/batch 12.55 | loss  5.42 | ppl   225.63\n",
      "| epoch   3 |   800/ 2928 batches | lr 4.51 | ms/batch 12.64 | loss  5.48 | ppl   239.14\n",
      "| epoch   3 |  1000/ 2928 batches | lr 4.51 | ms/batch 12.54 | loss  5.44 | ppl   229.34\n",
      "| epoch   3 |  1200/ 2928 batches | lr 4.51 | ms/batch 13.02 | loss  5.47 | ppl   238.19\n",
      "| epoch   3 |  1400/ 2928 batches | lr 4.51 | ms/batch 12.89 | loss  5.48 | ppl   240.12\n",
      "| epoch   3 |  1600/ 2928 batches | lr 4.51 | ms/batch 12.54 | loss  5.52 | ppl   249.17\n",
      "| epoch   3 |  1800/ 2928 batches | lr 4.51 | ms/batch 12.63 | loss  5.46 | ppl   235.89\n",
      "| epoch   3 |  2000/ 2928 batches | lr 4.51 | ms/batch 12.54 | loss  5.47 | ppl   237.76\n",
      "| epoch   3 |  2200/ 2928 batches | lr 4.51 | ms/batch 12.54 | loss  5.35 | ppl   210.38\n",
      "| epoch   3 |  2400/ 2928 batches | lr 4.51 | ms/batch 12.52 | loss  5.46 | ppl   234.14\n",
      "| epoch   3 |  2600/ 2928 batches | lr 4.51 | ms/batch 12.52 | loss  5.46 | ppl   235.41\n",
      "| epoch   3 |  2800/ 2928 batches | lr 4.51 | ms/batch 12.66 | loss  5.40 | ppl   221.53\n",
      "-----------------------------------------------------------------------------------------\n",
      "| end of epoch   3 | time: 38.37s | valid loss  5.59 | valid ppl   269.04\n",
      "-----------------------------------------------------------------------------------------\n"
     ]
    }
   ],
   "source": [
    "best_val_loss = float('inf')\n",
    "epochs = 3\n",
    "best_model = None\n",
    "\n",
    "for epoch in range(1, epochs + 1):\n",
    "    epoch_start_time = time.time()\n",
    "    train(model)\n",
    "    val_loss = evaluate(model, val_data)\n",
    "    val_ppl = math.exp(val_loss)\n",
    "    elapsed = time.time() - epoch_start_time\n",
    "    print('-' * 89)\n",
    "    print(f'| end of epoch {epoch:3d} | time: {elapsed:5.2f}s | '\n",
    "          f'valid loss {val_loss:5.2f} | valid ppl {val_ppl:8.2f}')\n",
    "    print('-' * 89)\n",
    "\n",
    "    if val_loss < best_val_loss:\n",
    "        best_val_loss = val_loss\n",
    "        best_model = copy.deepcopy(model)\n",
    "\n",
    "    scheduler.step()"
   ]
  },
  {
   "cell_type": "code",
   "execution_count": 23,
   "metadata": {},
   "outputs": [],
   "source": [
    "params = [(name, p.data.cpu().numpy()) for (name, p) in best_model.named_parameters()]\n",
    "# params1 = [p for p in best_model.parameters()]\n",
    "# print(params1)\n"
   ]
  },
  {
   "cell_type": "code",
   "execution_count": 19,
   "metadata": {},
   "outputs": [
    {
     "name": "stdout",
     "output_type": "stream",
     "text": [
      "Layer transformer_encoder, type layers, shape (600, 200)\n",
      "Layer transformer_encoder, type layers, shape (600,)\n",
      "Layer transformer_encoder, type layers, shape (200, 200)\n",
      "Layer transformer_encoder, type layers, shape (200,)\n",
      "Layer transformer_encoder, type layers, shape (200, 200)\n",
      "Layer transformer_encoder, type layers, shape (200,)\n",
      "Layer transformer_encoder, type layers, shape (200, 200)\n",
      "Layer transformer_encoder, type layers, shape (200,)\n",
      "Layer transformer_encoder, type layers, shape (200,)\n",
      "Layer transformer_encoder, type layers, shape (200,)\n",
      "Layer transformer_encoder, type layers, shape (200,)\n",
      "Layer transformer_encoder, type layers, shape (200,)\n",
      "Layer transformer_encoder, type layers, shape (600, 200)\n",
      "Layer transformer_encoder, type layers, shape (600,)\n",
      "Layer transformer_encoder, type layers, shape (200, 200)\n",
      "Layer transformer_encoder, type layers, shape (200,)\n",
      "Layer transformer_encoder, type layers, shape (200, 200)\n",
      "Layer transformer_encoder, type layers, shape (200,)\n",
      "Layer transformer_encoder, type layers, shape (200, 200)\n",
      "Layer transformer_encoder, type layers, shape (200,)\n",
      "Layer transformer_encoder, type layers, shape (200,)\n",
      "Layer transformer_encoder, type layers, shape (200,)\n",
      "Layer transformer_encoder, type layers, shape (200,)\n",
      "Layer transformer_encoder, type layers, shape (200,)\n",
      "Layer encoder, type weight, shape (28782, 200)\n",
      "Layer decoder, type weight, shape (28782, 200)\n",
      "Layer decoder, type bias, shape (28782,)\n"
     ]
    }
   ],
   "source": [
    "for (name, p) in params1:\n",
    "  print(f\"Layer {name.split('.')[0]}, type {name.split('.')[1]}, shape {p.shape}\")"
   ]
  },
  {
   "cell_type": "code",
   "execution_count": 43,
   "metadata": {},
   "outputs": [
    {
     "name": "stdout",
     "output_type": "stream",
     "text": [
      "<generator object Module.children at 0x7f07cc2e37b0>\n",
      "PositionalEncoding(\n",
      "  (dropout): Dropout(p=0.2, inplace=False)\n",
      ")\n",
      "Recursive\n",
      "ModuleList(\n",
      "  (0): TransformerEncoderLayer(\n",
      "    (self_attn): MultiheadAttention(\n",
      "      (out_proj): NonDynamicallyQuantizableLinear(in_features=200, out_features=200, bias=True)\n",
      "    )\n",
      "    (linear1): Linear(in_features=200, out_features=200, bias=True)\n",
      "    (dropout): Dropout(p=0.2, inplace=False)\n",
      "    (linear2): Linear(in_features=200, out_features=200, bias=True)\n",
      "    (norm1): LayerNorm((200,), eps=1e-05, elementwise_affine=True)\n",
      "    (norm2): LayerNorm((200,), eps=1e-05, elementwise_affine=True)\n",
      "    (dropout1): Dropout(p=0.2, inplace=False)\n",
      "    (dropout2): Dropout(p=0.2, inplace=False)\n",
      "  )\n",
      "  (1): TransformerEncoderLayer(\n",
      "    (self_attn): MultiheadAttention(\n",
      "      (out_proj): NonDynamicallyQuantizableLinear(in_features=200, out_features=200, bias=True)\n",
      "    )\n",
      "    (linear1): Linear(in_features=200, out_features=200, bias=True)\n",
      "    (dropout): Dropout(p=0.2, inplace=False)\n",
      "    (linear2): Linear(in_features=200, out_features=200, bias=True)\n",
      "    (norm1): LayerNorm((200,), eps=1e-05, elementwise_affine=True)\n",
      "    (norm2): LayerNorm((200,), eps=1e-05, elementwise_affine=True)\n",
      "    (dropout1): Dropout(p=0.2, inplace=False)\n",
      "    (dropout2): Dropout(p=0.2, inplace=False)\n",
      "  )\n",
      ")\n",
      "Embedding(28782, 200)\n",
      "Linear(in_features=200, out_features=28782, bias=True)\n"
     ]
    }
   ],
   "source": [
    "print(best_model.children())\n",
    "list_of_models = list(best_model.children())\n",
    "\n",
    "def print_layers(list_of_models):\n",
    "  # print(list_of_models)\n",
    "  if isinstance(list_of_models, nn.TransformerEncoder):\n",
    "    print('Recursive')\n",
    "    for i in list(list_of_models.children()):\n",
    "      print(i)\n",
    "  else:\n",
    "    print(list_of_models)\n",
    "    \n",
    "\n",
    "for layers in list_of_models:\n",
    "  print_layers(layers)\n",
    "\n",
    "  # print(list_of_models[i])\n",
    "\n",
    "# TODO: output the layer parameters in a format that can be read"
   ]
  },
  {
   "cell_type": "code",
   "execution_count": 45,
   "metadata": {},
   "outputs": [
    {
     "name": "stdout",
     "output_type": "stream",
     "text": [
      "tensor([    9,    59,   564,   223,   443, 13627,     2,   539,  2872,  2464,\n",
      "            0,   313,  4513,     1,     5,    47,    66, 11652,  2435,     1],\n",
      "       device='cuda:0')\n"
     ]
    }
   ],
   "source": [
    "for i in train_data:\n",
    "  # TODO: before batching, get the word of each sequence\n",
    "  print(i)\n",
    "  break"
   ]
  },
  {
   "cell_type": "code",
   "execution_count": null,
   "metadata": {},
   "outputs": [],
   "source": [
    "path = \"./Transformer/\"\n",
    "import numpy as np\n",
    "import os\n",
    "if not os.path.isdir(path):\n",
    "    os.mkdir(path)\n",
    "# np.savetxt(fname=path+\"label\", delimiter=\" \", X=label.tolist())\n",
    "#TODO: save the parameters of the model, the embeded words, the label, and the train data"
   ]
  },
  {
   "cell_type": "markdown",
   "metadata": {},
   "source": [
    "# Visualize Hidden Activations"
   ]
  },
  {
   "cell_type": "code",
   "execution_count": 14,
   "metadata": {},
   "outputs": [
    {
     "name": "stdout",
     "output_type": "stream",
     "text": [
      "=========================================================================================\n",
      "| End of training | test loss  5.50 | test ppl   245.20\n",
      "=========================================================================================\n"
     ]
    }
   ],
   "source": [
    "test_loss = evaluate(best_model, test_data)\n",
    "test_ppl = math.exp(test_loss)\n",
    "print('=' * 89)\n",
    "print(f'| End of training | test loss {test_loss:5.2f} | '\n",
    "      f'test ppl {test_ppl:8.2f}')\n",
    "print('=' * 89)"
   ]
  }
 ],
 "metadata": {
  "accelerator": "GPU",
  "colab": {
   "collapsed_sections": [],
   "name": "MNIST_LeNet.ipynb",
   "provenance": [
    {
     "file_id": "1G0aq7Vn-bomx5TTWCkUXm2iAPtQjYxxl",
     "timestamp": 1597179603592
    }
   ]
  },
  "kernelspec": {
   "display_name": "Python 3",
   "language": "python",
   "name": "python3"
  },
  "language_info": {
   "codemirror_mode": {
    "name": "ipython",
    "version": 3
   },
   "file_extension": ".py",
   "mimetype": "text/x-python",
   "name": "python",
   "nbconvert_exporter": "python",
   "pygments_lexer": "ipython3",
   "version": "3.8.12"
  }
 },
 "nbformat": 4,
 "nbformat_minor": 1
}
