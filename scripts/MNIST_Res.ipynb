{
 "cells": [
  {
   "cell_type": "code",
   "execution_count": 1,
   "metadata": {
    "colab": {},
    "colab_type": "code",
    "id": "NyFvxvSgsTqQ"
   },
   "outputs": [],
   "source": [
    "import torch\n",
    "import torch.nn as nn\n",
    "import torch.optim as optim\n",
    "from torchvision import datasets, transforms\n",
    "from torch.utils.data import DataLoader\n",
    "import numpy as np"
   ]
  },
  {
   "cell_type": "markdown",
   "metadata": {
    "colab_type": "text",
    "id": "-uJEFsv4tBBY"
   },
   "source": [
    "## Lets get the data, model and setup trainnig code"
   ]
  },
  {
   "cell_type": "code",
   "execution_count": 3,
   "metadata": {
    "colab": {},
    "colab_type": "code",
    "id": "KaC8fIULs7XK"
   },
   "outputs": [
    {
     "ename": "RuntimeError",
     "evalue": "The dataset is no longer publicly accessible. You need to download the archives externally and place them in the root directory.",
     "output_type": "error",
     "traceback": [
      "\u001b[1;31m---------------------------------------------------------------------------\u001b[0m",
      "\u001b[1;31mRuntimeError\u001b[0m                              Traceback (most recent call last)",
      "\u001b[1;32m<ipython-input-3-7e3d781100e9>\u001b[0m in \u001b[0;36m<module>\u001b[1;34m\u001b[0m\n\u001b[0;32m      1\u001b[0m \u001b[1;31m# train_loader = DataLoader(datasets.ImageNet(\"./\", train=True, transform=transforms.ToTensor(), download=False), batch_size=128, shuffle=True)\u001b[0m\u001b[1;33m\u001b[0m\u001b[1;33m\u001b[0m\u001b[1;33m\u001b[0m\u001b[0m\n\u001b[1;32m----> 2\u001b[1;33m \u001b[0mtest_loader\u001b[0m \u001b[1;33m=\u001b[0m \u001b[0mDataLoader\u001b[0m\u001b[1;33m(\u001b[0m\u001b[0mdatasets\u001b[0m\u001b[1;33m.\u001b[0m\u001b[0mImageNet\u001b[0m\u001b[1;33m(\u001b[0m\u001b[1;34m\"G:/\"\u001b[0m\u001b[1;33m,\u001b[0m \u001b[0mtrain\u001b[0m\u001b[1;33m=\u001b[0m\u001b[1;32mFalse\u001b[0m\u001b[1;33m,\u001b[0m \u001b[0mtransform\u001b[0m\u001b[1;33m=\u001b[0m\u001b[0mtransforms\u001b[0m\u001b[1;33m.\u001b[0m\u001b[0mToTensor\u001b[0m\u001b[1;33m(\u001b[0m\u001b[1;33m)\u001b[0m\u001b[1;33m,\u001b[0m \u001b[0mdownload\u001b[0m\u001b[1;33m=\u001b[0m\u001b[1;32mTrue\u001b[0m\u001b[1;33m)\u001b[0m\u001b[1;33m,\u001b[0m \u001b[0mbatch_size\u001b[0m\u001b[1;33m=\u001b[0m\u001b[1;36m128\u001b[0m\u001b[1;33m,\u001b[0m \u001b[0mshuffle\u001b[0m\u001b[1;33m=\u001b[0m\u001b[1;32mFalse\u001b[0m\u001b[1;33m)\u001b[0m\u001b[1;33m\u001b[0m\u001b[1;33m\u001b[0m\u001b[0m\n\u001b[0m\u001b[0;32m      3\u001b[0m \u001b[1;33m\u001b[0m\u001b[0m\n\u001b[0;32m      4\u001b[0m \u001b[1;31m# print(f\"Training images {len(train_loader.dataset)}, Test images {len(test_loader.dataset)}\")\u001b[0m\u001b[1;33m\u001b[0m\u001b[1;33m\u001b[0m\u001b[1;33m\u001b[0m\u001b[0m\n",
      "\u001b[1;32mD:\\Anaconda3\\lib\\site-packages\\torchvision\\datasets\\imagenet.py\u001b[0m in \u001b[0;36m__init__\u001b[1;34m(self, root, split, download, **kwargs)\u001b[0m\n\u001b[0;32m     44\u001b[0m                    \u001b[1;34m\"download the archives externally and place them in the root \"\u001b[0m\u001b[1;33m\u001b[0m\u001b[1;33m\u001b[0m\u001b[0m\n\u001b[0;32m     45\u001b[0m                    \"directory.\")\n\u001b[1;32m---> 46\u001b[1;33m             \u001b[1;32mraise\u001b[0m \u001b[0mRuntimeError\u001b[0m\u001b[1;33m(\u001b[0m\u001b[0mmsg\u001b[0m\u001b[1;33m)\u001b[0m\u001b[1;33m\u001b[0m\u001b[1;33m\u001b[0m\u001b[0m\n\u001b[0m\u001b[0;32m     47\u001b[0m         \u001b[1;32melif\u001b[0m \u001b[0mdownload\u001b[0m \u001b[1;32mis\u001b[0m \u001b[1;32mFalse\u001b[0m\u001b[1;33m:\u001b[0m\u001b[1;33m\u001b[0m\u001b[1;33m\u001b[0m\u001b[0m\n\u001b[0;32m     48\u001b[0m             msg = (\"The use of the download flag is deprecated, since the dataset \"\n",
      "\u001b[1;31mRuntimeError\u001b[0m: The dataset is no longer publicly accessible. You need to download the archives externally and place them in the root directory."
     ]
    }
   ],
   "source": [
    "# train_loader = DataLoader(datasets.ImageNet(\"./\", train=True, transform=transforms.ToTensor(), download=False), batch_size=128, shuffle=True)\n",
    "test_loader = DataLoader(datasets.ImageNet(\"./\", train=False, transform=transforms.ToTensor(), download=True), batch_size=128, shuffle=False)\n",
    "\n",
    "# print(f\"Training images {len(train_loader.dataset)}, Test images {len(test_loader.dataset)}\")"
   ]
  },
  {
   "cell_type": "code",
   "execution_count": 3,
   "metadata": {
    "colab": {},
    "colab_type": "code",
    "id": "Suh22BC9tMTj"
   },
   "outputs": [
    {
     "name": "stderr",
     "output_type": "stream",
     "text": [
      "Using cache found in C:\\Users\\67041/.cache\\torch\\hub\\pytorch_vision_v0.10.0\n"
     ]
    }
   ],
   "source": [
    "model = torch.hub.load('pytorch/vision:v0.10.0', 'resnet18', pretrained=True)"
   ]
  },
  {
   "cell_type": "markdown",
   "metadata": {
    "colab_type": "text",
    "id": "QsQBF-eWFDY7"
   },
   "source": [
    "## Extract weights"
   ]
  },
  {
   "cell_type": "code",
   "execution_count": 4,
   "metadata": {
    "colab": {},
    "colab_type": "code",
    "id": "CdQe9RA0vthi"
   },
   "outputs": [],
   "source": [
    "params = [(name, p.data.cpu().numpy()) for (name, p) in model.named_parameters()]"
   ]
  },
  {
   "cell_type": "code",
   "execution_count": 5,
   "metadata": {
    "colab": {},
    "colab_type": "code",
    "id": "DO_6VdePwxF_"
   },
   "outputs": [
    {
     "name": "stdout",
     "output_type": "stream",
     "text": [
      "Layer conv1, type weight, shape (64, 3, 7, 7)\n",
      "Layer bn1, type weight, shape (64,)\n",
      "Layer bn1, type bias, shape (64,)\n",
      "Layer layer1, type 0, shape (64, 64, 3, 3)\n",
      "Layer layer1, type 0, shape (64,)\n",
      "Layer layer1, type 0, shape (64,)\n",
      "Layer layer1, type 0, shape (64, 64, 3, 3)\n",
      "Layer layer1, type 0, shape (64,)\n",
      "Layer layer1, type 0, shape (64,)\n",
      "Layer layer1, type 1, shape (64, 64, 3, 3)\n",
      "Layer layer1, type 1, shape (64,)\n",
      "Layer layer1, type 1, shape (64,)\n",
      "Layer layer1, type 1, shape (64, 64, 3, 3)\n",
      "Layer layer1, type 1, shape (64,)\n",
      "Layer layer1, type 1, shape (64,)\n",
      "Layer layer2, type 0, shape (128, 64, 3, 3)\n",
      "Layer layer2, type 0, shape (128,)\n",
      "Layer layer2, type 0, shape (128,)\n",
      "Layer layer2, type 0, shape (128, 128, 3, 3)\n",
      "Layer layer2, type 0, shape (128,)\n",
      "Layer layer2, type 0, shape (128,)\n",
      "Layer layer2, type 0, shape (128, 64, 1, 1)\n",
      "Layer layer2, type 0, shape (128,)\n",
      "Layer layer2, type 0, shape (128,)\n",
      "Layer layer2, type 1, shape (128, 128, 3, 3)\n",
      "Layer layer2, type 1, shape (128,)\n",
      "Layer layer2, type 1, shape (128,)\n",
      "Layer layer2, type 1, shape (128, 128, 3, 3)\n",
      "Layer layer2, type 1, shape (128,)\n",
      "Layer layer2, type 1, shape (128,)\n",
      "Layer layer3, type 0, shape (256, 128, 3, 3)\n",
      "Layer layer3, type 0, shape (256,)\n",
      "Layer layer3, type 0, shape (256,)\n",
      "Layer layer3, type 0, shape (256, 256, 3, 3)\n",
      "Layer layer3, type 0, shape (256,)\n",
      "Layer layer3, type 0, shape (256,)\n",
      "Layer layer3, type 0, shape (256, 128, 1, 1)\n",
      "Layer layer3, type 0, shape (256,)\n",
      "Layer layer3, type 0, shape (256,)\n",
      "Layer layer3, type 1, shape (256, 256, 3, 3)\n",
      "Layer layer3, type 1, shape (256,)\n",
      "Layer layer3, type 1, shape (256,)\n",
      "Layer layer3, type 1, shape (256, 256, 3, 3)\n",
      "Layer layer3, type 1, shape (256,)\n",
      "Layer layer3, type 1, shape (256,)\n",
      "Layer layer4, type 0, shape (512, 256, 3, 3)\n",
      "Layer layer4, type 0, shape (512,)\n",
      "Layer layer4, type 0, shape (512,)\n",
      "Layer layer4, type 0, shape (512, 512, 3, 3)\n",
      "Layer layer4, type 0, shape (512,)\n",
      "Layer layer4, type 0, shape (512,)\n",
      "Layer layer4, type 0, shape (512, 256, 1, 1)\n",
      "Layer layer4, type 0, shape (512,)\n",
      "Layer layer4, type 0, shape (512,)\n",
      "Layer layer4, type 1, shape (512, 512, 3, 3)\n",
      "Layer layer4, type 1, shape (512,)\n",
      "Layer layer4, type 1, shape (512,)\n",
      "Layer layer4, type 1, shape (512, 512, 3, 3)\n",
      "Layer layer4, type 1, shape (512,)\n",
      "Layer layer4, type 1, shape (512,)\n",
      "Layer fc, type weight, shape (1000, 512)\n",
      "Layer fc, type bias, shape (1000,)\n"
     ]
    }
   ],
   "source": [
    "for (name, p) in params:\n",
    "  print(f\"Layer {name.split('.')[0]}, type {name.split('.')[1]}, shape {p.shape}\")"
   ]
  },
  {
   "cell_type": "code",
   "execution_count": 9,
   "metadata": {
    "colab": {},
    "colab_type": "code",
    "id": "Lypaj9GkFrUU"
   },
   "outputs": [],
   "source": [
    "#print(params)"
   ]
  },
  {
   "cell_type": "markdown",
   "metadata": {
    "colab_type": "text",
    "id": "IcatFuNhe1fY"
   },
   "source": [
    "## Visualize hidden activations"
   ]
  },
  {
   "cell_type": "code",
   "execution_count": 10,
   "metadata": {
    "colab": {},
    "colab_type": "code",
    "id": "r6lxIEFReMxL"
   },
   "outputs": [],
   "source": [
    "# print(model.children())\n",
    "# out = list(model.children())[0](img.cuda()).data.cpu().numpy()"
   ]
  },
  {
   "cell_type": "code",
   "execution_count": 11,
   "metadata": {
    "colab": {},
    "colab_type": "code",
    "id": "4rd-AKLbeL-A"
   },
   "outputs": [],
   "source": [
    "# import matplotlib.pyplot as plt\n",
    "# %matplotlib inline\n",
    "\n",
    "# for _ in range(out.shape[1]):\n",
    "#   plt.figure(figsize=(1, 1))\n",
    "#   plt.imshow(out[0, 0], cmap=\"gray\")"
   ]
  },
  {
   "cell_type": "code",
   "execution_count": 12,
   "metadata": {
    "colab": {},
    "colab_type": "code",
    "id": "VVz78PBcFzka"
   },
   "outputs": [],
   "source": [
    "for img, label in train_loader:\n",
    "  break"
   ]
  },
  {
   "cell_type": "code",
   "execution_count": 13,
   "metadata": {},
   "outputs": [
    {
     "name": "stdout",
     "output_type": "stream",
     "text": [
      "tensor([7, 0, 1, 4, 6, 3, 3, 1, 4, 7, 0, 4, 2, 8, 4, 5, 9, 0, 3, 1, 0, 5, 2, 2,\n",
      "        2, 9, 8, 5, 8, 7, 3, 0, 5, 7, 0, 0, 1, 7, 1, 9, 1, 3, 0, 6, 0, 9, 6, 1,\n",
      "        6, 4, 1, 3, 7, 2, 2, 7, 4, 4, 1, 1, 5, 4, 4, 4, 1, 1, 9, 7, 3, 4, 2, 4,\n",
      "        4, 1, 2, 9, 7, 5, 6, 8, 3, 8, 9, 1, 1, 1, 1, 2, 6, 9, 7, 4, 7, 5, 3, 5,\n",
      "        6, 4, 7, 0, 8, 6, 6, 3, 8, 4, 4, 9, 2, 8, 9, 0, 3, 6, 0, 4, 6, 3, 3, 7,\n",
      "        2, 5, 1, 7, 9, 8, 3, 8])\n"
     ]
    }
   ],
   "source": [
    "print(label)"
   ]
  },
  {
   "cell_type": "code",
   "execution_count": 16,
   "metadata": {
    "colab": {},
    "colab_type": "code",
    "id": "ACfBKOB3v7Dm"
   },
   "outputs": [
    {
     "name": "stdout",
     "output_type": "stream",
     "text": [
      "2\n",
      "[0.23071715235710144, 0.2538224756717682, -1.0542980817263015e-06, -0.66438889503479, -1.657055470616342e-08, 0.16152192652225494, 0.45450395345687866, -4.3019500139962474e-07, 0.30051374435424805, -8.005239578778856e-06, 0.3494180738925934, 0.3114806115627289, -0.24952976405620575, -3.474890036159195e-05, 0.1077263131737709, 0.2189706563949585, 0.3814125955104828, -0.5298821330070496, -0.6286441087722778, 0.5713980793952942, 0.29984691739082336, 0.5843037366867065, 0.4820215404033661, 0.3285263478755951, 0.1967170089483261, 0.1949618011713028, 0.1521454155445099, 0.08552236109972, 0.5131428241729736, 0.015236735343933105, 0.16644176840782166, 0.33239439129829407, 0.24921123683452606, 0.443366676568985, -0.280169278383255, -0.02038480155169964, -2.450687475175073e-07, 0.32134050130844116, -4.915174400821343e-08, 0.2377673089504242, 0.2329077273607254, 0.3152746260166168, 0.42776238918304443, 0.29312753677368164, 0.2637942433357239, 0.6759758591651917, 0.4291003942489624, 0.3456627428531647, -8.690901864838452e-08, 0.2472943663597107, 0.3031608462333679, 0.6157727837562561, 0.3983485698699951, 0.3320673406124115, -0.4121878147125244, 0.37806904315948486, 0.1789534091949463, 0.25747787952423096, -0.4490797221660614, 0.2130589485168457, 0.5693390369415283, 0.5727429986000061, -0.4023834764957428, 0.23406372964382172]\n"
     ]
    }
   ],
   "source": [
    "\n",
    "path = \"./ResNet/\"\n",
    "print(len(params[1]))\n",
    "print(params[2][1].tolist())\n",
    "# import os\n",
    "# if not os.path.isdir(path):\n",
    "#     os.mkdir(path)\n",
    "# np.savetxt(fname=path+\"label\", delimiter=\" \", X=label.tolist())\n",
    "# print(get_acc(model, ([img,label],)))"
   ]
  },
  {
   "cell_type": "code",
   "execution_count": 21,
   "metadata": {
    "colab": {},
    "colab_type": "code",
    "id": "eiqkXaaBZUci"
   },
   "outputs": [
    {
     "name": "stdout",
     "output_type": "stream",
     "text": [
      "(64, 3, 7, 7)\n",
      "(64,)\n",
      "(64,)\n",
      "(64, 64, 3, 3)\n",
      "(64,)\n",
      "(64,)\n",
      "(64, 64, 3, 3)\n",
      "(64,)\n",
      "(64,)\n",
      "(64, 64, 3, 3)\n",
      "(64,)\n",
      "(64,)\n",
      "(64, 64, 3, 3)\n",
      "(64,)\n",
      "(64,)\n",
      "(128, 64, 3, 3)\n",
      "(128,)\n",
      "(128,)\n",
      "(128, 128, 3, 3)\n",
      "(128,)\n",
      "(128,)\n",
      "(128, 64, 1, 1)\n",
      "(128,)\n",
      "(128,)\n",
      "(128, 128, 3, 3)\n",
      "(128,)\n",
      "(128,)\n",
      "(128, 128, 3, 3)\n",
      "(128,)\n",
      "(128,)\n",
      "(256, 128, 3, 3)\n",
      "(256,)\n",
      "(256,)\n",
      "(256, 256, 3, 3)\n",
      "(256,)\n",
      "(256,)\n",
      "(256, 128, 1, 1)\n",
      "(256,)\n",
      "(256,)\n",
      "(256, 256, 3, 3)\n",
      "(256,)\n",
      "(256,)\n",
      "(256, 256, 3, 3)\n",
      "(256,)\n",
      "(256,)\n",
      "(512, 256, 3, 3)\n",
      "(512,)\n",
      "(512,)\n",
      "(512, 512, 3, 3)\n",
      "(512,)\n",
      "(512,)\n",
      "(512, 256, 1, 1)\n",
      "(512,)\n",
      "(512,)\n",
      "(512, 512, 3, 3)\n",
      "(512,)\n",
      "(512,)\n",
      "(512, 512, 3, 3)\n",
      "(512,)\n",
      "(512,)\n",
      "(1000, 512)\n",
      "(1000,)\n"
     ]
    }
   ],
   "source": [
    "\n",
    "# np.savetxt(fname=path+\"input_0\", delimiter=\" \", X=img.cuda().view(-1, 784).tolist())\n",
    "# np.savetxt(fname=path+\"outputlayer1_0\", delimiter=\" \", X=model.output(img.cuda().view(128, 1, 28, 28))[0].data.cpu().view(-1))\n",
    "# np.savetxt(fname=path+\"outputlayer2_0\", delimiter=\" \", X=model.output(img.cuda().view(128, 1, 28, 28))[1].tolist())\n",
    "# np.savetxt(fname=path+\"outputlayer3_0\", delimiter=\" \", X=model.output(img.cuda().view(128, 1, 28, 28))[2].tolist())\n",
    "# np.savetxt(fname=path+\"outputlayer4_0\", delimiter=\" \", X=model.output(img.cuda().view(128, 1, 28, 28))[3].tolist())\n",
    "\n",
    "# np.savetxt(fname=path+\"weight1_0\", delimiter=\" \", X=params[0][1].reshape(5*5*1, 20).tolist())\n",
    "# np.savetxt(fname=path+\"bias1_0\", delimiter=\" \", X=params[1][1].tolist())\n",
    "# np.savetxt(fname=path+\"weight2_0\", delimiter=\" \", X=params[2][1].reshape(5*5*20, 50).tolist())\n",
    "# np.savetxt(fname=path+\"bias2_0\", delimiter=\" \", X=params[3][1].tolist())\n",
    "# np.savetxt(fname=path+\"weight3_0\", delimiter=\" \", X=params[4][1].tolist())\n",
    "# np.savetxt(fname=path+\"bias3_0\", delimiter=\" \", X=params[5][1].tolist())\n",
    "# np.savetxt(fname=path+\"weight4_0\", delimiter=\" \", X=params[6][1].tolist())\n",
    "# np.savetxt(fname=path+\"bias4_0\", delimiter=\" \", X=params[7][1].tolist())\n",
    "for i in range(len(params)):\n",
    "    print(params[i][1].shape)\n",
    "    if len(params[i][1].shape)==4:\n",
    "        np.savetxt(fname=path+\"weight_\"+str(i), delimiter=\" \", X=params[i][1].reshape(params[i][1].shape[1]*\\\n",
    "            params[i][1].shape[2]*params[i][1].shape[3], params[i][1].shape[0]).tolist())\n",
    "    else:\\\n",
    "        np.savetxt(fname=path+\"weight_\"+str(i), delimiter=\" \", X=params[i][1].tolist())\n"
   ]
  },
  {
   "cell_type": "code",
   "execution_count": null,
   "metadata": {},
   "outputs": [],
   "source": []
  }
 ],
 "metadata": {
  "accelerator": "GPU",
  "colab": {
   "collapsed_sections": [],
   "name": "MNIST_LeNet.ipynb",
   "provenance": [
    {
     "file_id": "1G0aq7Vn-bomx5TTWCkUXm2iAPtQjYxxl",
     "timestamp": 1597179603592
    }
   ]
  },
  "kernelspec": {
   "display_name": "Python 3",
   "language": "python",
   "name": "python3"
  },
  "language_info": {
   "codemirror_mode": {
    "name": "ipython",
    "version": 3
   },
   "file_extension": ".py",
   "mimetype": "text/x-python",
   "name": "python",
   "nbconvert_exporter": "python",
   "pygments_lexer": "ipython3",
   "version": "3.7.7"
  }
 },
 "nbformat": 4,
 "nbformat_minor": 1
}
