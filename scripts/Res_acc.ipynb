{
 "cells": [
  {
   "cell_type": "code",
   "execution_count": 7,
   "metadata": {
    "colab": {},
    "colab_type": "code",
    "id": "NyFvxvSgsTqQ"
   },
   "outputs": [],
   "source": [
    "import torch\n",
    "import torch.nn as nn\n",
    "import torch.optim as optim\n",
    "from torchvision import datasets, transforms\n",
    "from torch.utils.data import DataLoader\n",
    "from torch.hub import load_state_dict_from_url\n",
    "import numpy as np"
   ]
  },
  {
   "cell_type": "markdown",
   "metadata": {
    "colab_type": "text",
    "id": "-uJEFsv4tBBY"
   },
   "source": [
    "## Lets get the data, model and setup trainnig code"
   ]
  },
  {
   "cell_type": "code",
   "execution_count": 2,
   "metadata": {
    "colab": {},
    "colab_type": "code",
    "id": "KaC8fIULs7XK"
   },
   "outputs": [],
   "source": [
    "# train_loader = DataLoader(datasets.ImageNet(\"./\", train=True, transform=transforms.ToTensor(), download=False), batch_size=128, shuffle=True)\n",
    "# # test_loader = DataLoader(datasets.ImageNet(\"./\", train=False, transform=transforms.ToTensor(), download=True), batch_size=128, shuffle=False)\n",
    "\n",
    "# # print(f\"Training images {len(train_loader.dataset)}, Test images {len(test_loader.dataset)}\")"
   ]
  },
  {
   "cell_type": "code",
   "execution_count": 9,
   "metadata": {
    "colab": {},
    "colab_type": "code",
    "id": "Suh22BC9tMTj"
   },
   "outputs": [
    {
     "name": "stderr",
     "output_type": "stream",
     "text": [
      "Using cache found in C:\\Users\\67041/.cache\\torch\\hub\\pytorch_vision_v0.10.0\n"
     ]
    }
   ],
   "source": [
    "model = torch.hub.load('pytorch/vision:v0.10.0', 'resnet18', pretrained=True)\n",
    "\n",
    "model_urls = {\n",
    "    'resnet18': 'https://download.pytorch.org/models/resnet18-5c106cde.pth',\n",
    "    'resnet34': 'https://download.pytorch.org/models/resnet34-333f7ec4.pth',\n",
    "    'resnet50': 'https://download.pytorch.org/models/resnet50-19c8e357.pth',\n",
    "    'resnet101': 'https://download.pytorch.org/models/resnet101-5d3b4d8f.pth',\n",
    "    'resnet152': 'https://download.pytorch.org/models/resnet152-b121ed2d.pth',\n",
    "    'resnext50_32x4d': 'https://download.pytorch.org/models/resnext50_32x4d-7cdf4587.pth',\n",
    "    'resnext101_32x8d': 'https://download.pytorch.org/models/resnext101_32x8d-8ba56ff5.pth',\n",
    "    'wide_resnet50_2': 'https://download.pytorch.org/models/wide_resnet50_2-95faca4d.pth',\n",
    "    'wide_resnet101_2': 'https://download.pytorch.org/models/wide_resnet101_2-32ee1156.pth',\n",
    "}\n",
    "\n",
    "def conv3x3(in_planes, out_planes, stride=1, groups=1, dilation=1):\n",
    "    \"\"\"3x3 convolution with padding\"\"\"\n",
    "    return nn.Conv2d(in_planes, out_planes, kernel_size=3, stride=stride,\n",
    "                     padding=dilation, groups=groups, bias=False, dilation=dilation)\n",
    "\n",
    "\n",
    "def conv1x1(in_planes, out_planes, stride=1):\n",
    "    \"\"\"1x1 convolution\"\"\"\n",
    "    return nn.Conv2d(in_planes, out_planes, kernel_size=1, stride=stride, bias=False)\n",
    "    \n",
    "class BasicBlock(nn.Module):\n",
    "    expansion = 1\n",
    "\n",
    "    def __init__(self, inplanes, planes, stride=1, downsample=None, groups=1,\n",
    "                 base_width=64, dilation=1, norm_layer=None):\n",
    "        super(BasicBlock, self).__init__()\n",
    "        if norm_layer is None:\n",
    "            norm_layer = nn.BatchNorm2d\n",
    "        if groups != 1 or base_width != 64:\n",
    "            raise ValueError('BasicBlock only supports groups=1 and base_width=64')\n",
    "        if dilation > 1:\n",
    "            raise NotImplementedError(\"Dilation > 1 not supported in BasicBlock\")\n",
    "        # Both self.conv1 and self.downsample layers downsample the input when stride != 1\n",
    "        self.conv1 = conv3x3(inplanes, planes, stride)\n",
    "        self.bn1 = norm_layer(planes)\n",
    "        self.relu = nn.ReLU(inplace=True)\n",
    "        self.conv2 = conv3x3(planes, planes)\n",
    "        self.bn2 = norm_layer(planes)\n",
    "        self.downsample = downsample\n",
    "        self.stride = stride\n",
    "\n",
    "    def forward(self, x):\n",
    "        identity = x\n",
    "\n",
    "        out = self.conv1(x)\n",
    "        out = self.bn1(out)\n",
    "        out = self.relu(out)\n",
    "\n",
    "        out = self.conv2(out)\n",
    "        out = self.bn2(out)\n",
    "\n",
    "        if self.downsample is not None:\n",
    "            identity = self.downsample(x)\n",
    "\n",
    "        out += identity\n",
    "        out = self.relu(out)\n",
    "\n",
    "        return out\n",
    "\n",
    "\n",
    "class Bottleneck(nn.Module):\n",
    "    # Bottleneck in torchvision places the stride for downsampling at 3x3 convolution(self.conv2)\n",
    "    # while original implementation places the stride at the first 1x1 convolution(self.conv1)\n",
    "    # according to \"Deep residual learning for image recognition\"https://arxiv.org/abs/1512.03385.\n",
    "    # This variant is also known as ResNet V1.5 and improves accuracy according to\n",
    "    # https://ngc.nvidia.com/catalog/model-scripts/nvidia:resnet_50_v1_5_for_pytorch.\n",
    "\n",
    "    expansion = 4\n",
    "\n",
    "    def __init__(self, inplanes, planes, stride=1, downsample=None, groups=1,\n",
    "                 base_width=64, dilation=1, norm_layer=None):\n",
    "        super(Bottleneck, self).__init__()\n",
    "        if norm_layer is None:\n",
    "            norm_layer = nn.BatchNorm2d\n",
    "        width = int(planes * (base_width / 64.)) * groups\n",
    "        # Both self.conv2 and self.downsample layers downsample the input when stride != 1\n",
    "        self.conv1 = conv1x1(inplanes, width)\n",
    "        self.bn1 = norm_layer(width)\n",
    "        self.conv2 = conv3x3(width, width, stride, groups, dilation)\n",
    "        self.bn2 = norm_layer(width)\n",
    "        self.conv3 = conv1x1(width, planes * self.expansion)\n",
    "        self.bn3 = norm_layer(planes * self.expansion)\n",
    "        self.relu = nn.ReLU(inplace=True)\n",
    "        self.downsample = downsample\n",
    "        self.stride = stride\n",
    "\n",
    "    def forward(self, x):\n",
    "        identity = x\n",
    "\n",
    "        out = self.conv1(x)\n",
    "        out = self.bn1(out)\n",
    "        out = self.relu(out)\n",
    "\n",
    "        out = self.conv2(out)\n",
    "        out = self.bn2(out)\n",
    "        out = self.relu(out)\n",
    "\n",
    "        out = self.conv3(out)\n",
    "        out = self.bn3(out)\n",
    "\n",
    "        if self.downsample is not None:\n",
    "            identity = self.downsample(x)\n",
    "\n",
    "        out += identity\n",
    "        out = self.relu(out)\n",
    "\n",
    "        return out\n",
    "\n",
    "\n",
    "class ResNet(nn.Module):\n",
    "\n",
    "    def __init__(self, block, layers, num_classes=1000, zero_init_residual=False,\n",
    "                 groups=1, width_per_group=64, replace_stride_with_dilation=None,\n",
    "                 norm_layer=None):\n",
    "        super(ResNet, self).__init__()\n",
    "        if norm_layer is None:\n",
    "            norm_layer = nn.BatchNorm2d\n",
    "        self._norm_layer = norm_layer\n",
    "\n",
    "        self.inplanes = 64\n",
    "        self.dilation = 1\n",
    "        if replace_stride_with_dilation is None:\n",
    "            # each element in the tuple indicates if we should replace\n",
    "            # the 2x2 stride with a dilated convolution instead\n",
    "            replace_stride_with_dilation = [False, False, False]\n",
    "        if len(replace_stride_with_dilation) != 3:\n",
    "            raise ValueError(\"replace_stride_with_dilation should be None \"\n",
    "                             \"or a 3-element tuple, got {}\".format(replace_stride_with_dilation))\n",
    "        self.groups = groups\n",
    "        self.base_width = width_per_group\n",
    "        self.conv1 = nn.Conv2d(3, self.inplanes, kernel_size=7, stride=2, padding=3,\n",
    "                               bias=False)\n",
    "        self.bn1 = norm_layer(self.inplanes)\n",
    "        self.relu = nn.ReLU(inplace=True)\n",
    "        self.maxpool = nn.MaxPool2d(kernel_size=3, stride=2, padding=1)\n",
    "        self.layer1 = self._make_layer(block, 64, layers[0])\n",
    "        self.layer2 = self._make_layer(block, 128, layers[1], stride=2,\n",
    "                                       dilate=replace_stride_with_dilation[0])\n",
    "        self.layer3 = self._make_layer(block, 256, layers[2], stride=2,\n",
    "                                       dilate=replace_stride_with_dilation[1])\n",
    "        self.layer4 = self._make_layer(block, 512, layers[3], stride=2,\n",
    "                                       dilate=replace_stride_with_dilation[2])\n",
    "        self.avgpool = nn.AdaptiveAvgPool2d((1, 1))\n",
    "        self.fc = nn.Linear(512 * block.expansion, num_classes)\n",
    "\n",
    "        for m in self.modules():\n",
    "            if isinstance(m, nn.Conv2d):\n",
    "                nn.init.kaiming_normal_(m.weight, mode='fan_out', nonlinearity='relu')\n",
    "            elif isinstance(m, (nn.BatchNorm2d, nn.GroupNorm)):\n",
    "                nn.init.constant_(m.weight, 1)\n",
    "                nn.init.constant_(m.bias, 0)\n",
    "\n",
    "        # Zero-initialize the last BN in each residual branch,\n",
    "        # so that the residual branch starts with zeros, and each residual block behaves like an identity.\n",
    "        # This improves the model by 0.2~0.3% according to https://arxiv.org/abs/1706.02677\n",
    "        if zero_init_residual:\n",
    "            for m in self.modules():\n",
    "                if isinstance(m, Bottleneck):\n",
    "                    nn.init.constant_(m.bn3.weight, 0)\n",
    "                elif isinstance(m, BasicBlock):\n",
    "                    nn.init.constant_(m.bn2.weight, 0)\n",
    "\n",
    "    def _make_layer(self, block, planes, blocks, stride=1, dilate=False):\n",
    "        norm_layer = self._norm_layer\n",
    "        downsample = None\n",
    "        previous_dilation = self.dilation\n",
    "        if dilate:\n",
    "            self.dilation *= stride\n",
    "            stride = 1\n",
    "        if stride != 1 or self.inplanes != planes * block.expansion:\n",
    "            downsample = nn.Sequential(\n",
    "                conv1x1(self.inplanes, planes * block.expansion, stride),\n",
    "                norm_layer(planes * block.expansion),\n",
    "            )\n",
    "\n",
    "        layers = []\n",
    "        layers.append(block(self.inplanes, planes, stride, downsample, self.groups,\n",
    "                            self.base_width, previous_dilation, norm_layer))\n",
    "        self.inplanes = planes * block.expansion\n",
    "        for _ in range(1, blocks):\n",
    "            layers.append(block(self.inplanes, planes, groups=self.groups,\n",
    "                                base_width=self.base_width, dilation=self.dilation,\n",
    "                                norm_layer=norm_layer))\n",
    "\n",
    "        return nn.Sequential(*layers)\n",
    "\n",
    "    def _forward_impl(self, x):\n",
    "        # See note [TorchScript super()]\n",
    "        x = self.conv1(x)\n",
    "        x = self.bn1(x)\n",
    "        x = self.relu(x)\n",
    "        x = self.maxpool(x)\n",
    "\n",
    "        x = self.layer1(x)\n",
    "        x = self.layer2(x)\n",
    "        x = self.layer3(x)\n",
    "        x = self.layer4(x)\n",
    "\n",
    "        x = self.avgpool(x)\n",
    "        x = torch.flatten(x, 1)\n",
    "        x = self.fc(x)\n",
    "\n",
    "        return x\n",
    "\n",
    "    def forward(self, x):\n",
    "        return self._forward_impl(x)\n",
    "\n",
    "\n",
    "def _resnet(arch, block, layers, pretrained, progress, **kwargs):\n",
    "    model = ResNet(block, layers, **kwargs)\n",
    "    if pretrained:\n",
    "        state_dict = load_state_dict_from_url(model_urls[arch],\n",
    "                                              progress=progress)\n",
    "        model.load_state_dict(state_dict)\n",
    "    return model\n",
    "\n",
    "\n",
    "def resnet18(pretrained=False, progress=True, **kwargs):\n",
    "    r\"\"\"ResNet-18 model from\n",
    "    `\"Deep Residual Learning for Image Recognition\" <https://arxiv.org/pdf/1512.03385.pdf>`_\n",
    "\n",
    "    Args:\n",
    "        pretrained (bool): If True, returns a model pre-trained on ImageNet\n",
    "        progress (bool): If True, displays a progress bar of the download to stderr\n",
    "    \"\"\"\n",
    "    return _resnet('resnet18', BasicBlock, [2, 2, 2, 2], pretrained, progress,\n",
    "                   **kwargs)\n",
    "\n",
    "model_quan = resnet18()"
   ]
  },
  {
   "cell_type": "markdown",
   "metadata": {
    "colab_type": "text",
    "id": "QsQBF-eWFDY7"
   },
   "source": [
    "## Extract weights"
   ]
  },
  {
   "cell_type": "code",
   "execution_count": 4,
   "metadata": {
    "colab": {},
    "colab_type": "code",
    "id": "CdQe9RA0vthi"
   },
   "outputs": [],
   "source": [
    "params = [(name, p.data.cpu().numpy()) for (name, p) in model.named_parameters()]"
   ]
  },
  {
   "cell_type": "code",
   "execution_count": 5,
   "metadata": {
    "colab": {},
    "colab_type": "code",
    "id": "DO_6VdePwxF_"
   },
   "outputs": [
    {
     "name": "stdout",
     "output_type": "stream",
     "text": [
      "Layer conv1, type weight, shape (64, 3, 7, 7)\n",
      "Layer bn1, type weight, shape (64,)\n",
      "Layer bn1, type bias, shape (64,)\n",
      "Layer layer1, type 0, shape (64, 64, 3, 3)\n",
      "Layer layer1, type 0, shape (64,)\n",
      "Layer layer1, type 0, shape (64,)\n",
      "Layer layer1, type 0, shape (64, 64, 3, 3)\n",
      "Layer layer1, type 0, shape (64,)\n",
      "Layer layer1, type 0, shape (64,)\n",
      "Layer layer1, type 1, shape (64, 64, 3, 3)\n",
      "Layer layer1, type 1, shape (64,)\n",
      "Layer layer1, type 1, shape (64,)\n",
      "Layer layer1, type 1, shape (64, 64, 3, 3)\n",
      "Layer layer1, type 1, shape (64,)\n",
      "Layer layer1, type 1, shape (64,)\n",
      "Layer layer2, type 0, shape (128, 64, 3, 3)\n",
      "Layer layer2, type 0, shape (128,)\n",
      "Layer layer2, type 0, shape (128,)\n",
      "Layer layer2, type 0, shape (128, 128, 3, 3)\n",
      "Layer layer2, type 0, shape (128,)\n",
      "Layer layer2, type 0, shape (128,)\n",
      "Layer layer2, type 0, shape (128, 64, 1, 1)\n",
      "Layer layer2, type 0, shape (128,)\n",
      "Layer layer2, type 0, shape (128,)\n",
      "Layer layer2, type 1, shape (128, 128, 3, 3)\n",
      "Layer layer2, type 1, shape (128,)\n",
      "Layer layer2, type 1, shape (128,)\n",
      "Layer layer2, type 1, shape (128, 128, 3, 3)\n",
      "Layer layer2, type 1, shape (128,)\n",
      "Layer layer2, type 1, shape (128,)\n",
      "Layer layer3, type 0, shape (256, 128, 3, 3)\n",
      "Layer layer3, type 0, shape (256,)\n",
      "Layer layer3, type 0, shape (256,)\n",
      "Layer layer3, type 0, shape (256, 256, 3, 3)\n",
      "Layer layer3, type 0, shape (256,)\n",
      "Layer layer3, type 0, shape (256,)\n",
      "Layer layer3, type 0, shape (256, 128, 1, 1)\n",
      "Layer layer3, type 0, shape (256,)\n",
      "Layer layer3, type 0, shape (256,)\n",
      "Layer layer3, type 1, shape (256, 256, 3, 3)\n",
      "Layer layer3, type 1, shape (256,)\n",
      "Layer layer3, type 1, shape (256,)\n",
      "Layer layer3, type 1, shape (256, 256, 3, 3)\n",
      "Layer layer3, type 1, shape (256,)\n",
      "Layer layer3, type 1, shape (256,)\n",
      "Layer layer4, type 0, shape (512, 256, 3, 3)\n",
      "Layer layer4, type 0, shape (512,)\n",
      "Layer layer4, type 0, shape (512,)\n",
      "Layer layer4, type 0, shape (512, 512, 3, 3)\n",
      "Layer layer4, type 0, shape (512,)\n",
      "Layer layer4, type 0, shape (512,)\n",
      "Layer layer4, type 0, shape (512, 256, 1, 1)\n",
      "Layer layer4, type 0, shape (512,)\n",
      "Layer layer4, type 0, shape (512,)\n",
      "Layer layer4, type 1, shape (512, 512, 3, 3)\n",
      "Layer layer4, type 1, shape (512,)\n",
      "Layer layer4, type 1, shape (512,)\n",
      "Layer layer4, type 1, shape (512, 512, 3, 3)\n",
      "Layer layer4, type 1, shape (512,)\n",
      "Layer layer4, type 1, shape (512,)\n",
      "Layer fc, type weight, shape (1000, 512)\n",
      "Layer fc, type bias, shape (1000,)\n"
     ]
    }
   ],
   "source": [
    "for (name, p) in params:\n",
    "  print(f\"Layer {name.split('.')[0]}, type {name.split('.')[1]}, shape {p.shape}\")"
   ]
  },
  {
   "cell_type": "code",
   "execution_count": 9,
   "metadata": {
    "colab": {},
    "colab_type": "code",
    "id": "Lypaj9GkFrUU"
   },
   "outputs": [],
   "source": [
    "#print(params)"
   ]
  },
  {
   "cell_type": "markdown",
   "metadata": {
    "colab_type": "text",
    "id": "IcatFuNhe1fY"
   },
   "source": [
    "## Visualize hidden activations"
   ]
  },
  {
   "cell_type": "code",
   "execution_count": 10,
   "metadata": {
    "colab": {},
    "colab_type": "code",
    "id": "r6lxIEFReMxL"
   },
   "outputs": [],
   "source": [
    "# print(model.children())\n",
    "# out = list(model.children())[0](img.cuda()).data.cpu().numpy()"
   ]
  },
  {
   "cell_type": "code",
   "execution_count": 11,
   "metadata": {
    "colab": {},
    "colab_type": "code",
    "id": "4rd-AKLbeL-A"
   },
   "outputs": [],
   "source": [
    "# import matplotlib.pyplot as plt\n",
    "# %matplotlib inline\n",
    "\n",
    "# for _ in range(out.shape[1]):\n",
    "#   plt.figure(figsize=(1, 1))\n",
    "#   plt.imshow(out[0, 0], cmap=\"gray\")"
   ]
  },
  {
   "cell_type": "code",
   "execution_count": 12,
   "metadata": {
    "colab": {},
    "colab_type": "code",
    "id": "VVz78PBcFzka"
   },
   "outputs": [],
   "source": [
    "for img, label in train_loader:\n",
    "  break"
   ]
  },
  {
   "cell_type": "code",
   "execution_count": 13,
   "metadata": {},
   "outputs": [
    {
     "name": "stdout",
     "output_type": "stream",
     "text": [
      "tensor([7, 0, 1, 4, 6, 3, 3, 1, 4, 7, 0, 4, 2, 8, 4, 5, 9, 0, 3, 1, 0, 5, 2, 2,\n",
      "        2, 9, 8, 5, 8, 7, 3, 0, 5, 7, 0, 0, 1, 7, 1, 9, 1, 3, 0, 6, 0, 9, 6, 1,\n",
      "        6, 4, 1, 3, 7, 2, 2, 7, 4, 4, 1, 1, 5, 4, 4, 4, 1, 1, 9, 7, 3, 4, 2, 4,\n",
      "        4, 1, 2, 9, 7, 5, 6, 8, 3, 8, 9, 1, 1, 1, 1, 2, 6, 9, 7, 4, 7, 5, 3, 5,\n",
      "        6, 4, 7, 0, 8, 6, 6, 3, 8, 4, 4, 9, 2, 8, 9, 0, 3, 6, 0, 4, 6, 3, 3, 7,\n",
      "        2, 5, 1, 7, 9, 8, 3, 8])\n"
     ]
    }
   ],
   "source": [
    "print(label)"
   ]
  },
  {
   "cell_type": "code",
   "execution_count": 16,
   "metadata": {
    "colab": {},
    "colab_type": "code",
    "id": "ACfBKOB3v7Dm"
   },
   "outputs": [
    {
     "name": "stdout",
     "output_type": "stream",
     "text": [
      "2\n",
      "[0.23071715235710144, 0.2538224756717682, -1.0542980817263015e-06, -0.66438889503479, -1.657055470616342e-08, 0.16152192652225494, 0.45450395345687866, -4.3019500139962474e-07, 0.30051374435424805, -8.005239578778856e-06, 0.3494180738925934, 0.3114806115627289, -0.24952976405620575, -3.474890036159195e-05, 0.1077263131737709, 0.2189706563949585, 0.3814125955104828, -0.5298821330070496, -0.6286441087722778, 0.5713980793952942, 0.29984691739082336, 0.5843037366867065, 0.4820215404033661, 0.3285263478755951, 0.1967170089483261, 0.1949618011713028, 0.1521454155445099, 0.08552236109972, 0.5131428241729736, 0.015236735343933105, 0.16644176840782166, 0.33239439129829407, 0.24921123683452606, 0.443366676568985, -0.280169278383255, -0.02038480155169964, -2.450687475175073e-07, 0.32134050130844116, -4.915174400821343e-08, 0.2377673089504242, 0.2329077273607254, 0.3152746260166168, 0.42776238918304443, 0.29312753677368164, 0.2637942433357239, 0.6759758591651917, 0.4291003942489624, 0.3456627428531647, -8.690901864838452e-08, 0.2472943663597107, 0.3031608462333679, 0.6157727837562561, 0.3983485698699951, 0.3320673406124115, -0.4121878147125244, 0.37806904315948486, 0.1789534091949463, 0.25747787952423096, -0.4490797221660614, 0.2130589485168457, 0.5693390369415283, 0.5727429986000061, -0.4023834764957428, 0.23406372964382172]\n"
     ]
    }
   ],
   "source": [
    "\n",
    "path = \"./ResNet/\"\n",
    "print(len(params[1]))\n",
    "print(params[2][1].tolist())\n",
    "# import os\n",
    "# if not os.path.isdir(path):\n",
    "#     os.mkdir(path)\n",
    "# np.savetxt(fname=path+\"label\", delimiter=\" \", X=label.tolist())\n",
    "# print(get_acc(model, ([img,label],)))"
   ]
  },
  {
   "cell_type": "code",
   "execution_count": 21,
   "metadata": {
    "colab": {},
    "colab_type": "code",
    "id": "eiqkXaaBZUci"
   },
   "outputs": [
    {
     "name": "stdout",
     "output_type": "stream",
     "text": [
      "(64, 3, 7, 7)\n",
      "(64,)\n",
      "(64,)\n",
      "(64, 64, 3, 3)\n",
      "(64,)\n",
      "(64,)\n",
      "(64, 64, 3, 3)\n",
      "(64,)\n",
      "(64,)\n",
      "(64, 64, 3, 3)\n",
      "(64,)\n",
      "(64,)\n",
      "(64, 64, 3, 3)\n",
      "(64,)\n",
      "(64,)\n",
      "(128, 64, 3, 3)\n",
      "(128,)\n",
      "(128,)\n",
      "(128, 128, 3, 3)\n",
      "(128,)\n",
      "(128,)\n",
      "(128, 64, 1, 1)\n",
      "(128,)\n",
      "(128,)\n",
      "(128, 128, 3, 3)\n",
      "(128,)\n",
      "(128,)\n",
      "(128, 128, 3, 3)\n",
      "(128,)\n",
      "(128,)\n",
      "(256, 128, 3, 3)\n",
      "(256,)\n",
      "(256,)\n",
      "(256, 256, 3, 3)\n",
      "(256,)\n",
      "(256,)\n",
      "(256, 128, 1, 1)\n",
      "(256,)\n",
      "(256,)\n",
      "(256, 256, 3, 3)\n",
      "(256,)\n",
      "(256,)\n",
      "(256, 256, 3, 3)\n",
      "(256,)\n",
      "(256,)\n",
      "(512, 256, 3, 3)\n",
      "(512,)\n",
      "(512,)\n",
      "(512, 512, 3, 3)\n",
      "(512,)\n",
      "(512,)\n",
      "(512, 256, 1, 1)\n",
      "(512,)\n",
      "(512,)\n",
      "(512, 512, 3, 3)\n",
      "(512,)\n",
      "(512,)\n",
      "(512, 512, 3, 3)\n",
      "(512,)\n",
      "(512,)\n",
      "(1000, 512)\n",
      "(1000,)\n"
     ]
    }
   ],
   "source": [
    "\n",
    "# np.savetxt(fname=path+\"input_0\", delimiter=\" \", X=img.cuda().view(-1, 784).tolist())\n",
    "# np.savetxt(fname=path+\"outputlayer1_0\", delimiter=\" \", X=model.output(img.cuda().view(128, 1, 28, 28))[0].data.cpu().view(-1))\n",
    "# np.savetxt(fname=path+\"outputlayer2_0\", delimiter=\" \", X=model.output(img.cuda().view(128, 1, 28, 28))[1].tolist())\n",
    "# np.savetxt(fname=path+\"outputlayer3_0\", delimiter=\" \", X=model.output(img.cuda().view(128, 1, 28, 28))[2].tolist())\n",
    "# np.savetxt(fname=path+\"outputlayer4_0\", delimiter=\" \", X=model.output(img.cuda().view(128, 1, 28, 28))[3].tolist())\n",
    "\n",
    "# np.savetxt(fname=path+\"weight1_0\", delimiter=\" \", X=params[0][1].reshape(5*5*1, 20).tolist())\n",
    "# np.savetxt(fname=path+\"bias1_0\", delimiter=\" \", X=params[1][1].tolist())\n",
    "# np.savetxt(fname=path+\"weight2_0\", delimiter=\" \", X=params[2][1].reshape(5*5*20, 50).tolist())\n",
    "# np.savetxt(fname=path+\"bias2_0\", delimiter=\" \", X=params[3][1].tolist())\n",
    "# np.savetxt(fname=path+\"weight3_0\", delimiter=\" \", X=params[4][1].tolist())\n",
    "# np.savetxt(fname=path+\"bias3_0\", delimiter=\" \", X=params[5][1].tolist())\n",
    "# np.savetxt(fname=path+\"weight4_0\", delimiter=\" \", X=params[6][1].tolist())\n",
    "# np.savetxt(fname=path+\"bias4_0\", delimiter=\" \", X=params[7][1].tolist())\n",
    "for i in range(len(params)):\n",
    "    print(params[i][1].shape)\n",
    "    if len(params[i][1].shape)==4:\n",
    "        np.savetxt(fname=path+\"weight_\"+str(i), delimiter=\" \", X=params[i][1].reshape(params[i][1].shape[1]*\\\n",
    "            params[i][1].shape[2]*params[i][1].shape[3], params[i][1].shape[0]).tolist())\n",
    "    else:\\\n",
    "        np.savetxt(fname=path+\"weight_\"+str(i), delimiter=\" \", X=params[i][1].tolist())\n"
   ]
  },
  {
   "cell_type": "code",
   "execution_count": null,
   "metadata": {},
   "outputs": [],
   "source": []
  }
 ],
 "metadata": {
  "accelerator": "GPU",
  "colab": {
   "collapsed_sections": [],
   "name": "MNIST_LeNet.ipynb",
   "provenance": [
    {
     "file_id": "1G0aq7Vn-bomx5TTWCkUXm2iAPtQjYxxl",
     "timestamp": 1597179603592
    }
   ]
  },
  "kernelspec": {
   "display_name": "Python 3",
   "language": "python",
   "name": "python3"
  },
  "language_info": {
   "codemirror_mode": {
    "name": "ipython",
    "version": 3
   },
   "file_extension": ".py",
   "mimetype": "text/x-python",
   "name": "python",
   "nbconvert_exporter": "python",
   "pygments_lexer": "ipython3",
   "version": "3.7.7"
  }
 },
 "nbformat": 4,
 "nbformat_minor": 1
}
